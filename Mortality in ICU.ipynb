{
 "cells": [
  {
   "cell_type": "markdown",
   "metadata": {
    "colab_type": "text",
    "id": "uSjIWb7AbYRK"
   },
   "source": [
    "# Topic - Mortality Prediction in ICU\n",
    "    \n",
    "Patients admitted to the ICU suffer from critical illness or injury and are at high risk of dying. ICU mortality rates differ widely depending on the underlying disease process, with death rates as low as 1 in 20 for patients admitted following elective surgery, and as high as 1 in 4 for patients with respiratory diseases. The risk of death can be approximated by evaluating the severity of a patient’s illness as determined by important physiologic, clinical, and demographic determinants."
   ]
  },
  {
   "cell_type": "markdown",
   "metadata": {},
   "source": [
    "## Importing libraries"
   ]
  },
  {
   "cell_type": "code",
   "execution_count": 1,
   "metadata": {},
   "outputs": [],
   "source": [
    "import warnings\n",
    "warnings.filterwarnings('ignore')"
   ]
  },
  {
   "cell_type": "code",
   "execution_count": 2,
   "metadata": {},
   "outputs": [
    {
     "name": "stderr",
     "output_type": "stream",
     "text": [
      "Using TensorFlow backend.\n"
     ]
    }
   ],
   "source": [
    "import numpy as np\n",
    "import pandas as pd\n",
    "import matplotlib.pyplot as plt\n",
    "%matplotlib inline\n",
    "import seaborn as sns\n",
    "import keras"
   ]
  },
  {
   "cell_type": "markdown",
   "metadata": {},
   "source": [
    "## Reading and Understanding Data"
   ]
  },
  {
   "cell_type": "code",
   "execution_count": 3,
   "metadata": {
    "colab": {},
    "colab_type": "code",
    "id": "4SSmnM9Nv-hJ"
   },
   "outputs": [],
   "source": [
    "df = pd.read_csv('train.csv', encoding = 'utf-8')\n",
    "df_label = pd.read_csv('labels.csv', encoding = 'utf-8')"
   ]
  },
  {
   "cell_type": "code",
   "execution_count": 4,
   "metadata": {
    "colab": {
     "base_uri": "https://localhost:8080/",
     "height": 226
    },
    "colab_type": "code",
    "id": "0jA27SJJwgpn",
    "outputId": "95b1ead9-a721-4721-c536-1329197a497c"
   },
   "outputs": [
    {
     "data": {
      "text/html": [
       "<div>\n",
       "<style scoped>\n",
       "    .dataframe tbody tr th:only-of-type {\n",
       "        vertical-align: middle;\n",
       "    }\n",
       "\n",
       "    .dataframe tbody tr th {\n",
       "        vertical-align: top;\n",
       "    }\n",
       "\n",
       "    .dataframe thead th {\n",
       "        text-align: right;\n",
       "    }\n",
       "</style>\n",
       "<table border=\"1\" class=\"dataframe\">\n",
       "  <thead>\n",
       "    <tr style=\"text-align: right;\">\n",
       "      <th></th>\n",
       "      <th>ALP</th>\n",
       "      <th>ALT</th>\n",
       "      <th>AST</th>\n",
       "      <th>Age</th>\n",
       "      <th>Albumin</th>\n",
       "      <th>BUN</th>\n",
       "      <th>Bilirubin</th>\n",
       "      <th>Cholesterol</th>\n",
       "      <th>Creatinine</th>\n",
       "      <th>DiasABP</th>\n",
       "      <th>...</th>\n",
       "      <th>RespRate</th>\n",
       "      <th>SaO2</th>\n",
       "      <th>SysABP</th>\n",
       "      <th>Temp</th>\n",
       "      <th>TroponinI</th>\n",
       "      <th>TroponinT</th>\n",
       "      <th>Urine</th>\n",
       "      <th>WBC</th>\n",
       "      <th>Weight</th>\n",
       "      <th>pH</th>\n",
       "    </tr>\n",
       "  </thead>\n",
       "  <tbody>\n",
       "    <tr>\n",
       "      <th>0</th>\n",
       "      <td>77.0</td>\n",
       "      <td>31.0</td>\n",
       "      <td>46.0</td>\n",
       "      <td>54</td>\n",
       "      <td>2.973333</td>\n",
       "      <td>10.500000</td>\n",
       "      <td>0.7</td>\n",
       "      <td>154.0</td>\n",
       "      <td>0.750000</td>\n",
       "      <td>58.795833</td>\n",
       "      <td>...</td>\n",
       "      <td>17.428571</td>\n",
       "      <td>97.250000</td>\n",
       "      <td>116.891892</td>\n",
       "      <td>37.357143</td>\n",
       "      <td>2.1</td>\n",
       "      <td>0.14</td>\n",
       "      <td>171.052632</td>\n",
       "      <td>10.300000</td>\n",
       "      <td>80.060976</td>\n",
       "      <td>7.387273</td>\n",
       "    </tr>\n",
       "    <tr>\n",
       "      <th>1</th>\n",
       "      <td>77.0</td>\n",
       "      <td>31.0</td>\n",
       "      <td>46.0</td>\n",
       "      <td>76</td>\n",
       "      <td>2.973333</td>\n",
       "      <td>18.333333</td>\n",
       "      <td>0.7</td>\n",
       "      <td>154.0</td>\n",
       "      <td>1.100000</td>\n",
       "      <td>58.897059</td>\n",
       "      <td>...</td>\n",
       "      <td>19.000000</td>\n",
       "      <td>96.833333</td>\n",
       "      <td>113.411765</td>\n",
       "      <td>36.939130</td>\n",
       "      <td>2.1</td>\n",
       "      <td>0.14</td>\n",
       "      <td>151.560976</td>\n",
       "      <td>11.266667</td>\n",
       "      <td>80.670588</td>\n",
       "      <td>7.395000</td>\n",
       "    </tr>\n",
       "    <tr>\n",
       "      <th>2</th>\n",
       "      <td>116.0</td>\n",
       "      <td>83.0</td>\n",
       "      <td>199.5</td>\n",
       "      <td>44</td>\n",
       "      <td>2.500000</td>\n",
       "      <td>4.666667</td>\n",
       "      <td>2.9</td>\n",
       "      <td>154.0</td>\n",
       "      <td>0.333333</td>\n",
       "      <td>67.125000</td>\n",
       "      <td>...</td>\n",
       "      <td>19.000000</td>\n",
       "      <td>95.000000</td>\n",
       "      <td>125.687500</td>\n",
       "      <td>37.800000</td>\n",
       "      <td>2.1</td>\n",
       "      <td>0.14</td>\n",
       "      <td>124.951220</td>\n",
       "      <td>4.700000</td>\n",
       "      <td>56.700000</td>\n",
       "      <td>7.495000</td>\n",
       "    </tr>\n",
       "    <tr>\n",
       "      <th>3</th>\n",
       "      <td>105.0</td>\n",
       "      <td>12.0</td>\n",
       "      <td>15.0</td>\n",
       "      <td>68</td>\n",
       "      <td>4.400000</td>\n",
       "      <td>17.666667</td>\n",
       "      <td>0.2</td>\n",
       "      <td>154.0</td>\n",
       "      <td>0.766667</td>\n",
       "      <td>58.795833</td>\n",
       "      <td>...</td>\n",
       "      <td>15.457627</td>\n",
       "      <td>97.250000</td>\n",
       "      <td>116.891892</td>\n",
       "      <td>36.223077</td>\n",
       "      <td>2.1</td>\n",
       "      <td>0.14</td>\n",
       "      <td>545.833333</td>\n",
       "      <td>9.400000</td>\n",
       "      <td>84.600000</td>\n",
       "      <td>7.387273</td>\n",
       "    </tr>\n",
       "    <tr>\n",
       "      <th>4</th>\n",
       "      <td>77.0</td>\n",
       "      <td>31.0</td>\n",
       "      <td>46.0</td>\n",
       "      <td>88</td>\n",
       "      <td>3.300000</td>\n",
       "      <td>35.000000</td>\n",
       "      <td>0.7</td>\n",
       "      <td>154.0</td>\n",
       "      <td>1.000000</td>\n",
       "      <td>58.795833</td>\n",
       "      <td>...</td>\n",
       "      <td>19.166667</td>\n",
       "      <td>97.250000</td>\n",
       "      <td>116.891892</td>\n",
       "      <td>36.880000</td>\n",
       "      <td>2.1</td>\n",
       "      <td>0.14</td>\n",
       "      <td>62.131579</td>\n",
       "      <td>4.300000</td>\n",
       "      <td>80.060976</td>\n",
       "      <td>7.387273</td>\n",
       "    </tr>\n",
       "  </tbody>\n",
       "</table>\n",
       "<p>5 rows × 42 columns</p>\n",
       "</div>"
      ],
      "text/plain": [
       "     ALP   ALT    AST  Age   Albumin        BUN  Bilirubin  Cholesterol  \\\n",
       "0   77.0  31.0   46.0   54  2.973333  10.500000        0.7        154.0   \n",
       "1   77.0  31.0   46.0   76  2.973333  18.333333        0.7        154.0   \n",
       "2  116.0  83.0  199.5   44  2.500000   4.666667        2.9        154.0   \n",
       "3  105.0  12.0   15.0   68  4.400000  17.666667        0.2        154.0   \n",
       "4   77.0  31.0   46.0   88  3.300000  35.000000        0.7        154.0   \n",
       "\n",
       "   Creatinine    DiasABP  ...   RespRate       SaO2      SysABP       Temp  \\\n",
       "0    0.750000  58.795833  ...  17.428571  97.250000  116.891892  37.357143   \n",
       "1    1.100000  58.897059  ...  19.000000  96.833333  113.411765  36.939130   \n",
       "2    0.333333  67.125000  ...  19.000000  95.000000  125.687500  37.800000   \n",
       "3    0.766667  58.795833  ...  15.457627  97.250000  116.891892  36.223077   \n",
       "4    1.000000  58.795833  ...  19.166667  97.250000  116.891892  36.880000   \n",
       "\n",
       "   TroponinI  TroponinT       Urine        WBC     Weight        pH  \n",
       "0        2.1       0.14  171.052632  10.300000  80.060976  7.387273  \n",
       "1        2.1       0.14  151.560976  11.266667  80.670588  7.395000  \n",
       "2        2.1       0.14  124.951220   4.700000  56.700000  7.495000  \n",
       "3        2.1       0.14  545.833333   9.400000  84.600000  7.387273  \n",
       "4        2.1       0.14   62.131579   4.300000  80.060976  7.387273  \n",
       "\n",
       "[5 rows x 42 columns]"
      ]
     },
     "execution_count": 4,
     "metadata": {},
     "output_type": "execute_result"
    }
   ],
   "source": [
    "df.head()"
   ]
  },
  {
   "cell_type": "code",
   "execution_count": 5,
   "metadata": {
    "colab": {
     "base_uri": "https://localhost:8080/",
     "height": 139
    },
    "colab_type": "code",
    "id": "v-nSzBRzwnVJ",
    "outputId": "2fee0704-8346-4ee6-a2ec-930945fb48b4"
   },
   "outputs": [
    {
     "data": {
      "text/plain": [
       "Index(['ALP', 'ALT', 'AST', 'Age', 'Albumin', 'BUN', 'Bilirubin',\n",
       "       'Cholesterol', 'Creatinine', 'DiasABP', 'FiO2', 'GCS', 'Gender',\n",
       "       'Glucose', 'HCO3', 'HCT', 'HR', 'Height', 'ICUType', 'K', 'Lactate',\n",
       "       'MAP', 'MechVent', 'Mg', 'NIDiasABP', 'NIMAP', 'NISysABP', 'Na',\n",
       "       'PaCO2', 'PaO2', 'Platelets', 'RecordID', 'RespRate', 'SaO2', 'SysABP',\n",
       "       'Temp', 'TroponinI', 'TroponinT', 'Urine', 'WBC', 'Weight', 'pH'],\n",
       "      dtype='object')"
      ]
     },
     "execution_count": 5,
     "metadata": {},
     "output_type": "execute_result"
    }
   ],
   "source": [
    "df.columns"
   ]
  },
  {
   "cell_type": "code",
   "execution_count": 6,
   "metadata": {
    "colab": {
     "base_uri": "https://localhost:8080/",
     "height": 34
    },
    "colab_type": "code",
    "id": "jHTUvXM8wpeS",
    "outputId": "dd3ff0b0-aece-4b6a-a0f2-5ce9cfeb3194"
   },
   "outputs": [
    {
     "name": "stdout",
     "output_type": "stream",
     "text": [
      "Number of rows =  3999\n",
      "Number of columns =  42\n"
     ]
    }
   ],
   "source": [
    "print('Number of rows = ',df.shape[0])\n",
    "print('Number of columns = ',df.shape[1])"
   ]
  },
  {
   "cell_type": "code",
   "execution_count": 7,
   "metadata": {},
   "outputs": [
    {
     "name": "stdout",
     "output_type": "stream",
     "text": [
      "<class 'pandas.core.frame.DataFrame'>\n",
      "RangeIndex: 3999 entries, 0 to 3998\n",
      "Data columns (total 42 columns):\n",
      "ALP            3999 non-null float64\n",
      "ALT            3999 non-null float64\n",
      "AST            3999 non-null float64\n",
      "Age            3999 non-null int64\n",
      "Albumin        3999 non-null float64\n",
      "BUN            3999 non-null float64\n",
      "Bilirubin      3999 non-null float64\n",
      "Cholesterol    3999 non-null float64\n",
      "Creatinine     3999 non-null float64\n",
      "DiasABP        3999 non-null float64\n",
      "FiO2           3999 non-null float64\n",
      "GCS            3999 non-null float64\n",
      "Gender         3999 non-null int64\n",
      "Glucose        3999 non-null float64\n",
      "HCO3           3999 non-null float64\n",
      "HCT            3999 non-null float64\n",
      "HR             3999 non-null float64\n",
      "Height         3999 non-null float64\n",
      "ICUType        3999 non-null int64\n",
      "K              3999 non-null float64\n",
      "Lactate        3999 non-null float64\n",
      "MAP            3999 non-null float64\n",
      "MechVent       3999 non-null int64\n",
      "Mg             3999 non-null float64\n",
      "NIDiasABP      3999 non-null float64\n",
      "NIMAP          3999 non-null float64\n",
      "NISysABP       3999 non-null float64\n",
      "Na             3999 non-null float64\n",
      "PaCO2          3999 non-null float64\n",
      "PaO2           3999 non-null float64\n",
      "Platelets      3999 non-null float64\n",
      "RecordID       3999 non-null float64\n",
      "RespRate       3999 non-null float64\n",
      "SaO2           3999 non-null float64\n",
      "SysABP         3999 non-null float64\n",
      "Temp           3999 non-null float64\n",
      "TroponinI      3999 non-null float64\n",
      "TroponinT      3999 non-null float64\n",
      "Urine          3999 non-null float64\n",
      "WBC            3999 non-null float64\n",
      "Weight         3999 non-null float64\n",
      "pH             3999 non-null float64\n",
      "dtypes: float64(38), int64(4)\n",
      "memory usage: 1.3 MB\n"
     ]
    }
   ],
   "source": [
    "df.info()"
   ]
  },
  {
   "cell_type": "code",
   "execution_count": 8,
   "metadata": {},
   "outputs": [
    {
     "data": {
      "text/html": [
       "<div>\n",
       "<style scoped>\n",
       "    .dataframe tbody tr th:only-of-type {\n",
       "        vertical-align: middle;\n",
       "    }\n",
       "\n",
       "    .dataframe tbody tr th {\n",
       "        vertical-align: top;\n",
       "    }\n",
       "\n",
       "    .dataframe thead th {\n",
       "        text-align: right;\n",
       "    }\n",
       "</style>\n",
       "<table border=\"1\" class=\"dataframe\">\n",
       "  <thead>\n",
       "    <tr style=\"text-align: right;\">\n",
       "      <th></th>\n",
       "      <th>In-hospital_death</th>\n",
       "    </tr>\n",
       "  </thead>\n",
       "  <tbody>\n",
       "    <tr>\n",
       "      <th>0</th>\n",
       "      <td>0</td>\n",
       "    </tr>\n",
       "    <tr>\n",
       "      <th>1</th>\n",
       "      <td>0</td>\n",
       "    </tr>\n",
       "    <tr>\n",
       "      <th>2</th>\n",
       "      <td>0</td>\n",
       "    </tr>\n",
       "    <tr>\n",
       "      <th>3</th>\n",
       "      <td>0</td>\n",
       "    </tr>\n",
       "    <tr>\n",
       "      <th>4</th>\n",
       "      <td>0</td>\n",
       "    </tr>\n",
       "  </tbody>\n",
       "</table>\n",
       "</div>"
      ],
      "text/plain": [
       "   In-hospital_death\n",
       "0                  0\n",
       "1                  0\n",
       "2                  0\n",
       "3                  0\n",
       "4                  0"
      ]
     },
     "execution_count": 8,
     "metadata": {},
     "output_type": "execute_result"
    }
   ],
   "source": [
    "df_label.head()"
   ]
  },
  {
   "cell_type": "code",
   "execution_count": 9,
   "metadata": {},
   "outputs": [
    {
     "data": {
      "text/html": [
       "<div>\n",
       "<style scoped>\n",
       "    .dataframe tbody tr th:only-of-type {\n",
       "        vertical-align: middle;\n",
       "    }\n",
       "\n",
       "    .dataframe tbody tr th {\n",
       "        vertical-align: top;\n",
       "    }\n",
       "\n",
       "    .dataframe thead th {\n",
       "        text-align: right;\n",
       "    }\n",
       "</style>\n",
       "<table border=\"1\" class=\"dataframe\">\n",
       "  <thead>\n",
       "    <tr style=\"text-align: right;\">\n",
       "      <th></th>\n",
       "      <th>class</th>\n",
       "    </tr>\n",
       "  </thead>\n",
       "  <tbody>\n",
       "    <tr>\n",
       "      <th>0</th>\n",
       "      <td>0</td>\n",
       "    </tr>\n",
       "    <tr>\n",
       "      <th>1</th>\n",
       "      <td>0</td>\n",
       "    </tr>\n",
       "    <tr>\n",
       "      <th>2</th>\n",
       "      <td>0</td>\n",
       "    </tr>\n",
       "    <tr>\n",
       "      <th>3</th>\n",
       "      <td>0</td>\n",
       "    </tr>\n",
       "    <tr>\n",
       "      <th>4</th>\n",
       "      <td>0</td>\n",
       "    </tr>\n",
       "  </tbody>\n",
       "</table>\n",
       "</div>"
      ],
      "text/plain": [
       "   class\n",
       "0      0\n",
       "1      0\n",
       "2      0\n",
       "3      0\n",
       "4      0"
      ]
     },
     "execution_count": 9,
     "metadata": {},
     "output_type": "execute_result"
    }
   ],
   "source": [
    "df_label = df_label.rename(columns={'In-hospital_death':'class'})\n",
    "df_label.head()"
   ]
  },
  {
   "cell_type": "code",
   "execution_count": 10,
   "metadata": {
    "colab": {
     "base_uri": "https://localhost:8080/",
     "height": 34
    },
    "colab_type": "code",
    "id": "iaf1RfDezd2J",
    "outputId": "d0c35cdf-5713-4d96-f0d9-877f109b0b1b"
   },
   "outputs": [
    {
     "name": "stdout",
     "output_type": "stream",
     "text": [
      "Number of rows =  3999\n",
      "Number of columns =  1\n"
     ]
    }
   ],
   "source": [
    "print('Number of rows = ',df_label.shape[0])\n",
    "print('Number of columns = ',df_label.shape[1])"
   ]
  },
  {
   "cell_type": "code",
   "execution_count": 11,
   "metadata": {},
   "outputs": [
    {
     "data": {
      "image/png": "[encoded data removed]",
      "text/plain": [
       "<Figure size 360x288 with 1 Axes>"
      ]
     },
     "metadata": {
      "needs_background": "light"
     },
     "output_type": "display_data"
    }
   ],
   "source": [
    "plt.figure(figsize=(5,4))\n",
    "sns.countplot(x='class',data = df_label)\n",
    "plt.xlabel('1 : Death',fontsize=13)\n",
    "plt.ylabel('Count',fontsize=13)\n",
    "plt.tick_params(labelsize=13);"
   ]
  },
  {
   "cell_type": "code",
   "execution_count": 12,
   "metadata": {
    "colab": {},
    "colab_type": "code",
    "id": "8U73MSeH3LHv"
   },
   "outputs": [],
   "source": [
    "temp  = []\n",
    "\n",
    "for i in df_label[\"class\"]:\n",
    "    if i == 0:\n",
    "        temp.append([1,0])\n",
    "    else:\n",
    "        temp.append([0,1])\n",
    "\n",
    "temp = np.array(temp)"
   ]
  },
  {
   "cell_type": "code",
   "execution_count": 13,
   "metadata": {
    "colab": {
     "base_uri": "https://localhost:8080/",
     "height": 34
    },
    "colab_type": "code",
    "id": "TK_DkrfMhTUI",
    "outputId": "4c1901fe-407c-44b5-dd31-2b7b24193fd7"
   },
   "outputs": [
    {
     "name": "stdout",
     "output_type": "stream",
     "text": [
      "(3999, 2)\n"
     ]
    }
   ],
   "source": [
    "print(temp.shape)"
   ]
  },
  {
   "cell_type": "code",
   "execution_count": 14,
   "metadata": {
    "colab": {
     "base_uri": "https://localhost:8080/",
     "height": 34
    },
    "colab_type": "code",
    "id": "nR4NdLjgjARm",
    "outputId": "12e3f873-e884-4167-c550-b2993925dba4"
   },
   "outputs": [
    {
     "name": "stdout",
     "output_type": "stream",
     "text": [
      "Number of rows =  3999\n",
      "Number of columns =  43\n"
     ]
    }
   ],
   "source": [
    "combine_df = pd.concat([df, df_label] , axis = 1)\n",
    "\n",
    "print('Number of rows = ',combine_df.shape[0])\n",
    "print('Number of columns = ',combine_df.shape[1])"
   ]
  },
  {
   "cell_type": "code",
   "execution_count": 15,
   "metadata": {},
   "outputs": [
    {
     "data": {
      "image/png": "[encoded data removed]",
      "text/plain": [
       "<Figure size 1224x720 with 2 Axes>"
      ]
     },
     "metadata": {
      "needs_background": "light"
     },
     "output_type": "display_data"
    }
   ],
   "source": [
    "corr = combine_df.corr()\n",
    "fig = plt.figure(figsize=(17,10))\n",
    "ax = fig.add_subplot(111)\n",
    "cax = ax.matshow(corr,cmap='coolwarm', vmin=-1, vmax=1)\n",
    "fig.colorbar(cax)\n",
    "ticks = np.arange(0,len(combine_df.columns),1)\n",
    "ax.set_xticks(ticks)\n",
    "plt.xticks(rotation=90)\n",
    "ax.set_yticks(ticks)\n",
    "ax.set_xticklabels(combine_df.columns)\n",
    "ax.set_yticklabels(combine_df.columns)\n",
    "plt.show()"
   ]
  },
  {
   "cell_type": "code",
   "execution_count": 16,
   "metadata": {},
   "outputs": [],
   "source": [
    "corr_matrix = combine_df.corr().abs()\n",
    "\n",
    "upper = corr_matrix.where(np.triu(np.ones(corr_matrix.shape), k=1).astype(np.bool))\n",
    "\n",
    "# Find index of feature columns with correlation greater than 85%\n",
    "to_drop = [column for column in upper.columns if any(upper[column] > 0.85)]"
   ]
  },
  {
   "cell_type": "code",
   "execution_count": 17,
   "metadata": {},
   "outputs": [
    {
     "data": {
      "text/plain": [
       "['AST', 'NIMAP']"
      ]
     },
     "execution_count": 17,
     "metadata": {},
     "output_type": "execute_result"
    }
   ],
   "source": [
    "to_drop"
   ]
  },
  {
   "cell_type": "code",
   "execution_count": 18,
   "metadata": {},
   "outputs": [],
   "source": [
    "combine_df.drop(['AST', 'NIMAP'], axis=1, inplace=True)"
   ]
  },
  {
   "cell_type": "code",
   "execution_count": 19,
   "metadata": {},
   "outputs": [],
   "source": [
    "X = combine_df.drop('class', axis=1).values\n",
    "y = temp"
   ]
  },
  {
   "cell_type": "code",
   "execution_count": 20,
   "metadata": {},
   "outputs": [],
   "source": [
    "from sklearn.model_selection import train_test_split\n",
    "X_train, X_test, y_train, y_test = train_test_split(X, y, test_size=0.2, random_state=101)"
   ]
  },
  {
   "cell_type": "code",
   "execution_count": 21,
   "metadata": {},
   "outputs": [
    {
     "name": "stdout",
     "output_type": "stream",
     "text": [
      "(3199, 40) (800, 40) (3199, 2) (800, 2)\n"
     ]
    }
   ],
   "source": [
    "print(X_train.shape,X_test.shape,y_train.shape,y_test.shape)"
   ]
  },
  {
   "cell_type": "code",
   "execution_count": 22,
   "metadata": {},
   "outputs": [],
   "source": [
    "from sklearn.preprocessing import MinMaxScaler\n",
    "\n",
    "scaler = MinMaxScaler()\n",
    "X_train = scaler.fit_transform(X_train)\n",
    "# only transform test data\n",
    "X_test = scaler.transform(X_test)"
   ]
  },
  {
   "cell_type": "code",
   "execution_count": 23,
   "metadata": {},
   "outputs": [
    {
     "data": {
      "text/plain": [
       "array([[4.62223237e-02, 3.28212181e-04, 8.53333333e-01, ...,\n",
       "        8.02139038e-02, 2.58010118e-01, 3.88368673e-03],\n",
       "       [4.45103858e-02, 3.06331369e-03, 1.00000000e+00, ...,\n",
       "        8.65945552e-02, 1.88853288e-01, 4.05400670e-03],\n",
       "       [4.45103858e-02, 3.06331369e-03, 2.66666667e-01, ...,\n",
       "        4.95867769e-02, 2.58215769e-01, 3.38212380e-03],\n",
       "       ...,\n",
       "       [4.45103858e-02, 3.06331369e-03, 8.80000000e-01, ...,\n",
       "        6.78172095e-02, 3.52445194e-01, 3.88368673e-03],\n",
       "       [4.10865099e-02, 3.24565379e-03, 7.73333333e-01, ...,\n",
       "        9.51628586e-02, 2.41342798e-01, 3.91566251e-03],\n",
       "       [4.45103858e-02, 3.06331369e-03, 4.80000000e-01, ...,\n",
       "        6.78172095e-02, 3.34232715e-01, 4.43869489e-03]])"
      ]
     },
     "execution_count": 23,
     "metadata": {},
     "output_type": "execute_result"
    }
   ],
   "source": [
    "X_train"
   ]
  },
  {
   "cell_type": "code",
   "execution_count": 24,
   "metadata": {},
   "outputs": [
    {
     "name": "stdout",
     "output_type": "stream",
     "text": [
      "(3999, 40) (3999, 2)\n"
     ]
    }
   ],
   "source": [
    "print(X.shape , y.shape)"
   ]
  },
  {
   "cell_type": "markdown",
   "metadata": {
    "colab_type": "text",
    "id": "-_I4XqpTQVWb"
   },
   "source": [
    "## Model Building"
   ]
  },
  {
   "cell_type": "code",
   "execution_count": 25,
   "metadata": {},
   "outputs": [],
   "source": [
    "from keras.models import Sequential\n",
    "from keras.layers import Dense, Dropout , BatchNormalization\n",
    "from keras.utils import np_utils\n",
    "from keras.optimizers import RMSprop, Adam\n",
    "from sklearn.metrics import accuracy_score"
   ]
  },
  {
   "cell_type": "code",
   "execution_count": 26,
   "metadata": {},
   "outputs": [
    {
     "name": "stdout",
     "output_type": "stream",
     "text": [
      "Model: \"sequential_1\"\n",
      "_________________________________________________________________\n",
      "Layer (type)                 Output Shape              Param #   \n",
      "=================================================================\n",
      "dense_1 (Dense)              (None, 64)                2624      \n",
      "_________________________________________________________________\n",
      "dense_2 (Dense)              (None, 128)               8320      \n",
      "_________________________________________________________________\n",
      "dense_3 (Dense)              (None, 196)               25284     \n",
      "_________________________________________________________________\n",
      "dense_4 (Dense)              (None, 196)               38612     \n",
      "_________________________________________________________________\n",
      "batch_normalization_1 (Batch (None, 196)               784       \n",
      "_________________________________________________________________\n",
      "dense_5 (Dense)              (None, 256)               50432     \n",
      "_________________________________________________________________\n",
      "dense_6 (Dense)              (None, 2)                 514       \n",
      "=================================================================\n",
      "Total params: 126,570\n",
      "Trainable params: 126,178\n",
      "Non-trainable params: 392\n",
      "_________________________________________________________________\n",
      "None\n"
     ]
    }
   ],
   "source": [
    "model = Sequential()\n",
    "\n",
    "model.add(Dense(64, input_dim=X_train.shape[1] , activation='relu'))\n",
    "model.add(Dense(128, activation='relu'))\n",
    "model.add(Dense(196, activation='relu'))\n",
    "model.add(Dense(196, activation='relu'))\n",
    "\n",
    "model.add(BatchNormalization())\n",
    "\n",
    "model.add(Dense(256, activation='relu'))\n",
    "model.add(Dense(2, activation='sigmoid'))\n",
    "\n",
    "model.compile(optimizer = Adam(lr = 0.0005),loss='binary_crossentropy', metrics=['accuracy'])\n",
    "print(model.summary())"
   ]
  },
  {
   "cell_type": "code",
   "execution_count": 27,
   "metadata": {},
   "outputs": [
    {
     "data": {
      "image/png": "[encoded data removed]",
      "text/plain": [
       "<IPython.core.display.Image object>"
      ]
     },
     "execution_count": 27,
     "metadata": {},
     "output_type": "execute_result"
    }
   ],
   "source": [
    "# visualizing the model\n",
    "from keras.utils import plot_model\n",
    "plot_model(model, show_shapes=True)"
   ]
  },
  {
   "cell_type": "markdown",
   "metadata": {
    "colab_type": "text",
    "id": "NOe6VkAPUXTI"
   },
   "source": [
    "## Model Training"
   ]
  },
  {
   "cell_type": "code",
   "execution_count": 28,
   "metadata": {
    "scrolled": false
   },
   "outputs": [
    {
     "name": "stdout",
     "output_type": "stream",
     "text": [
      "Train on 3199 samples, validate on 800 samples\n",
      "Epoch 1/18\n",
      "3199/3199 [==============================] - 0s 114us/step - loss: 0.4296 - accuracy: 0.8462 - val_loss: 0.5321 - val_accuracy: 0.8712\n",
      "Epoch 2/18\n",
      "3199/3199 [==============================] - 0s 27us/step - loss: 0.3408 - accuracy: 0.8621 - val_loss: 0.4866 - val_accuracy: 0.8712\n",
      "Epoch 3/18\n",
      "3199/3199 [==============================] - 0s 27us/step - loss: 0.3283 - accuracy: 0.8686 - val_loss: 0.4847 - val_accuracy: 0.8712\n",
      "Epoch 4/18\n",
      "3199/3199 [==============================] - 0s 30us/step - loss: 0.3153 - accuracy: 0.8701 - val_loss: 0.4874 - val_accuracy: 0.8712\n",
      "Epoch 5/18\n",
      "3199/3199 [==============================] - 0s 28us/step - loss: 0.3062 - accuracy: 0.8743 - val_loss: 0.4743 - val_accuracy: 0.8712\n",
      "Epoch 6/18\n",
      "3199/3199 [==============================] - 0s 27us/step - loss: 0.3036 - accuracy: 0.8720 - val_loss: 0.4541 - val_accuracy: 0.8712\n",
      "Epoch 7/18\n",
      "3199/3199 [==============================] - 0s 26us/step - loss: 0.2989 - accuracy: 0.8787 - val_loss: 0.4648 - val_accuracy: 0.8712\n",
      "Epoch 8/18\n",
      "3199/3199 [==============================] - ETA: 0s - loss: 0.2975 - accuracy: 0.87 - 0s 26us/step - loss: 0.2919 - accuracy: 0.8793 - val_loss: 0.4627 - val_accuracy: 0.8719\n",
      "Epoch 9/18\n",
      "3199/3199 [==============================] - 0s 27us/step - loss: 0.2890 - accuracy: 0.8796 - val_loss: 0.4128 - val_accuracy: 0.8712\n",
      "Epoch 10/18\n",
      "3199/3199 [==============================] - 0s 26us/step - loss: 0.2811 - accuracy: 0.8878 - val_loss: 0.4159 - val_accuracy: 0.8725\n",
      "Epoch 11/18\n",
      "3199/3199 [==============================] - 0s 26us/step - loss: 0.2721 - accuracy: 0.8865 - val_loss: 0.4343 - val_accuracy: 0.8719\n",
      "Epoch 12/18\n",
      "3199/3199 [==============================] - 0s 27us/step - loss: 0.2744 - accuracy: 0.8862 - val_loss: 0.4055 - val_accuracy: 0.8756\n",
      "Epoch 13/18\n",
      "3199/3199 [==============================] - 0s 26us/step - loss: 0.2655 - accuracy: 0.8873 - val_loss: 0.4061 - val_accuracy: 0.8763\n",
      "Epoch 14/18\n",
      "3199/3199 [==============================] - 0s 26us/step - loss: 0.2561 - accuracy: 0.8942 - val_loss: 0.3411 - val_accuracy: 0.8737\n",
      "Epoch 15/18\n",
      "3199/3199 [==============================] - 0s 26us/step - loss: 0.2621 - accuracy: 0.8932 - val_loss: 0.3520 - val_accuracy: 0.8806\n",
      "Epoch 16/18\n",
      "3199/3199 [==============================] - 0s 27us/step - loss: 0.2498 - accuracy: 0.9011 - val_loss: 0.3312 - val_accuracy: 0.8819\n",
      "Epoch 17/18\n",
      "3199/3199 [==============================] - 0s 26us/step - loss: 0.2545 - accuracy: 0.8928 - val_loss: 0.3813 - val_accuracy: 0.8737\n",
      "Epoch 18/18\n",
      "3199/3199 [==============================] - 0s 25us/step - loss: 0.2440 - accuracy: 0.8987 - val_loss: 0.3939 - val_accuracy: 0.8700\n"
     ]
    },
    {
     "data": {
      "text/plain": [
       "<keras.callbacks.callbacks.History at 0x256967c3fc8>"
      ]
     },
     "execution_count": 28,
     "metadata": {},
     "output_type": "execute_result"
    }
   ],
   "source": [
    "model.fit(X_train, y_train, epochs=18, batch_size = 128, validation_data=(X_test, y_test))"
   ]
  },
  {
   "cell_type": "code",
   "execution_count": 29,
   "metadata": {},
   "outputs": [],
   "source": [
    "result = pd.DataFrame(model.history.history)"
   ]
  },
  {
   "cell_type": "markdown",
   "metadata": {},
   "source": [
    "## Evaluating the Model"
   ]
  },
  {
   "cell_type": "code",
   "execution_count": 30,
   "metadata": {},
   "outputs": [
    {
     "name": "stdout",
     "output_type": "stream",
     "text": [
      "800/800 [==============================] - 0s 24us/step\n",
      "\n",
      "Accuracy on test data =  87.0 %\n"
     ]
    }
   ],
   "source": [
    "test_acc = model.evaluate(X_test, y_test)\n",
    "print(\"\\nAccuracy on test data = \", round(test_acc[1],3)*100,'%')"
   ]
  },
  {
   "cell_type": "code",
   "execution_count": 31,
   "metadata": {},
   "outputs": [
    {
     "data": {
      "text/plain": [
       "array([1, 0, 0, 0, 0, 0, 0, 0, 0, 0, 0, 0, 0, 0, 0, 0, 0, 0, 0, 0, 0, 0,\n",
       "       0, 0, 0, 1, 0, 0, 0, 0, 0, 1, 1, 0, 0, 0, 0, 0, 0, 0, 0, 0, 0, 0,\n",
       "       0, 0, 0, 0, 0, 0, 0, 0, 0, 0, 0, 0, 0, 0, 0, 0, 1, 0, 0, 0, 0, 1,\n",
       "       0, 0, 0, 0, 0, 0, 0, 0, 0, 0, 0, 0, 0, 0, 0, 0, 0, 0, 1, 0, 0, 0,\n",
       "       0, 0, 0, 0, 1, 0, 0, 0, 0, 0, 0, 0, 0, 0, 0, 1, 0, 1, 0, 0, 0, 0,\n",
       "       0, 0, 1, 1, 0, 0, 0, 0, 0, 0, 0, 0, 0, 0, 0, 0, 0, 0, 0, 0, 0, 0,\n",
       "       0, 0, 0, 0, 0, 0, 0, 0, 0, 0, 1, 0, 0, 0, 0, 0, 1, 0, 0, 0, 0, 0,\n",
       "       0, 0, 0, 0, 0, 1, 0, 1, 0, 0, 0, 0, 0, 0, 0, 0, 0, 0, 0, 1, 0, 0,\n",
       "       0, 0, 0, 0, 0, 0, 0, 0, 0, 0, 0, 0, 0, 0, 0, 0, 0, 1, 0, 0, 0, 0,\n",
       "       0, 1, 0, 0, 0, 0, 0, 0, 0, 0, 0, 0, 0, 0, 0, 0, 0, 0, 0, 0, 0, 0,\n",
       "       0, 0, 1, 0, 0, 0, 1, 0, 0, 0, 0, 0, 0, 0, 0, 0, 0, 0, 0, 0, 0, 0,\n",
       "       1, 0, 0, 1, 0, 0, 0, 1, 0, 0, 0, 0, 0, 1, 0, 0, 0, 0, 0, 0, 0, 0,\n",
       "       0, 0, 0, 0, 0, 0, 0, 0, 1, 0, 0, 0, 0, 0, 0, 0, 0, 0, 0, 0, 0, 0,\n",
       "       0, 0, 0, 0, 0, 0, 0, 0, 0, 0, 0, 0, 0, 0, 0, 0, 1, 0, 0, 0, 1, 0,\n",
       "       0, 0, 0, 0, 0, 0, 0, 0, 0, 0, 0, 0, 1, 0, 1, 0, 0, 0, 1, 0, 0, 0,\n",
       "       0, 0, 1, 0, 0, 0, 0, 0, 0, 0, 0, 0, 0, 0, 0, 0, 0, 0, 0, 0, 0, 0,\n",
       "       0, 0, 1, 0, 0, 0, 1, 0, 0, 0, 1, 0, 0, 0, 0, 0, 0, 0, 0, 0, 0, 0,\n",
       "       0, 0, 0, 0, 0, 0, 0, 0, 0, 1, 0, 0, 0, 0, 0, 1, 0, 0, 0, 0, 0, 0,\n",
       "       0, 0, 0, 0, 0, 0, 0, 0, 0, 0, 0, 1, 0, 0, 0, 0, 1, 0, 1, 1, 0, 0,\n",
       "       0, 0, 0, 0, 0, 0, 0, 0, 0, 0, 0, 0, 0, 1, 0, 0, 0, 0, 0, 0, 0, 0,\n",
       "       0, 0, 0, 1, 0, 0, 0, 0, 0, 0, 0, 1, 0, 0, 0, 0, 0, 0, 0, 0, 0, 0,\n",
       "       0, 0, 0, 0, 0, 0, 0, 0, 0, 0, 0, 0, 0, 1, 0, 0, 0, 0, 0, 0, 1, 0,\n",
       "       0, 0, 0, 0, 0, 0, 0, 0, 0, 0, 0, 0, 0, 0, 0, 0, 0, 0, 0, 0, 0, 0,\n",
       "       0, 0, 0, 0, 0, 0, 0, 0, 0, 1, 0, 0, 0, 1, 0, 0, 0, 1, 0, 0, 0, 0,\n",
       "       0, 0, 0, 0, 0, 1, 0, 0, 0, 0, 0, 0, 0, 0, 0, 0, 0, 0, 0, 0, 0, 0,\n",
       "       0, 0, 0, 0, 0, 0, 0, 0, 1, 0, 0, 1, 0, 1, 0, 0, 0, 0, 0, 0, 0, 0,\n",
       "       0, 1, 0, 0, 0, 0, 0, 0, 0, 0, 0, 0, 1, 0, 0, 0, 0, 0, 0, 0, 0, 0,\n",
       "       1, 0, 0, 0, 0, 0, 0, 0, 0, 0, 0, 0, 0, 0, 0, 0, 0, 0, 0, 0, 0, 0,\n",
       "       0, 0, 0, 0, 0, 0, 0, 0, 0, 0, 0, 0, 0, 0, 0, 1, 0, 0, 0, 1, 0, 0,\n",
       "       0, 0, 0, 0, 0, 0, 0, 0, 0, 0, 0, 0, 0, 0, 0, 0, 0, 0, 0, 0, 0, 0,\n",
       "       0, 0, 1, 0, 0, 0, 0, 0, 0, 0, 0, 0, 0, 0, 0, 0, 0, 0, 0, 1, 0, 0,\n",
       "       0, 0, 0, 0, 0, 0, 0, 0, 0, 0, 0, 0, 0, 0, 0, 0, 0, 0, 0, 0, 0, 0,\n",
       "       0, 1, 1, 0, 0, 1, 0, 0, 0, 0, 0, 0, 0, 0, 1, 0, 0, 0, 0, 0, 0, 0,\n",
       "       0, 0, 1, 0, 0, 0, 0, 0, 0, 0, 1, 0, 0, 0, 0, 0, 0, 0, 0, 0, 0, 0,\n",
       "       0, 0, 0, 0, 0, 0, 0, 0, 0, 0, 0, 0, 0, 0, 0, 0, 0, 0, 1, 0, 0, 0,\n",
       "       0, 0, 0, 0, 0, 1, 0, 0, 0, 0, 0, 0, 0, 0, 0, 0, 0, 0, 0, 1, 1, 0,\n",
       "       0, 0, 0, 0, 0, 0, 0, 0], dtype=int64)"
      ]
     },
     "execution_count": 31,
     "metadata": {},
     "output_type": "execute_result"
    }
   ],
   "source": [
    "predictions = model.predict_classes(X_test)\n",
    "predictions"
   ]
  },
  {
   "cell_type": "code",
   "execution_count": 32,
   "metadata": {},
   "outputs": [],
   "source": [
    "from sklearn.metrics import confusion_matrix"
   ]
  },
  {
   "cell_type": "code",
   "execution_count": 33,
   "metadata": {},
   "outputs": [],
   "source": [
    "pred = model.predict(X_test)\n",
    "pred = np.argmax(pred,axis = 1) \n",
    "y_true = np.argmax(y_test,axis = 1)"
   ]
  },
  {
   "cell_type": "code",
   "execution_count": 34,
   "metadata": {
    "colab": {
     "base_uri": "https://localhost:8080/",
     "height": 55
    },
    "colab_type": "code",
    "id": "n0RntYHAW1Q_",
    "outputId": "65076c0d-0541-4ab3-a32e-b4596de76e61"
   },
   "outputs": [
    {
     "data": {
      "text/plain": [
       "array([[662,  35],\n",
       "       [ 68,  35]], dtype=int64)"
      ]
     },
     "execution_count": 34,
     "metadata": {},
     "output_type": "execute_result"
    }
   ],
   "source": [
    "cf_matrix = confusion_matrix(y_true, pred)\n",
    "cf_matrix"
   ]
  },
  {
   "cell_type": "code",
   "execution_count": 35,
   "metadata": {},
   "outputs": [
    {
     "data": {
      "image/png": "[encoded data removed]",
      "text/plain": [
       "<Figure size 432x360 with 1 Axes>"
      ]
     },
     "metadata": {
      "needs_background": "light"
     },
     "output_type": "display_data"
    }
   ],
   "source": [
    "group_names = ['True Neg','False Pos','False Neg','True Pos']\n",
    "\n",
    "group_counts = ['{0:0.0f}'.format(value) for value in cf_matrix.flatten()]\n",
    "\n",
    "group_percentages = ['{0:.2%}'.format(value) for value in cf_matrix.flatten()/np.sum(cf_matrix)]\n",
    "\n",
    "labels = [f'{v1}\\n{v2}\\n{v3}' for v1, v2, v3 in zip(group_names,group_counts,group_percentages)]\n",
    "\n",
    "labels = np.asarray(labels).reshape(2,2)\n",
    "\n",
    "plt.figure(figsize=(6,5))\n",
    "sns.heatmap(cf_matrix, annot=labels, fmt='', cmap='Blues', cbar=False);"
   ]
  },
  {
   "cell_type": "markdown",
   "metadata": {},
   "source": [
    "## Will this patient going to die?"
   ]
  },
  {
   "cell_type": "code",
   "execution_count": 36,
   "metadata": {},
   "outputs": [],
   "source": [
    "single_patient = combine_df.drop('class', axis=1).iloc[0]"
   ]
  },
  {
   "cell_type": "code",
   "execution_count": 37,
   "metadata": {},
   "outputs": [
    {
     "data": {
      "text/plain": [
       "ALP                77.000000\n",
       "ALT                31.000000\n",
       "Age                54.000000\n",
       "Albumin             2.973333\n",
       "BUN                10.500000\n",
       "Bilirubin           0.700000\n",
       "Cholesterol       154.000000\n",
       "Creatinine          0.750000\n",
       "DiasABP            58.795833\n",
       "FiO2                0.526667\n",
       "GCS                14.923077\n",
       "Gender              0.000000\n",
       "Glucose           160.000000\n",
       "HCO3               27.000000\n",
       "HCT                32.500000\n",
       "HR                 70.810811\n",
       "Height            170.200000\n",
       "ICUType             4.000000\n",
       "K                   4.200000\n",
       "Lactate             1.900000\n",
       "MAP                78.934007\n",
       "MechVent            1.000000\n",
       "Mg                  1.700000\n",
       "NIDiasABP          50.147059\n",
       "NISysABP          114.382353\n",
       "Na                136.500000\n",
       "PaCO2              39.666667\n",
       "PaO2              138.871212\n",
       "Platelets         203.000000\n",
       "RecordID       132539.000000\n",
       "RespRate           17.428571\n",
       "SaO2               97.250000\n",
       "SysABP            116.891892\n",
       "Temp               37.357143\n",
       "TroponinI           2.100000\n",
       "TroponinT           0.140000\n",
       "Urine             171.052632\n",
       "WBC                10.300000\n",
       "Weight             80.060976\n",
       "pH                  7.387273\n",
       "Name: 0, dtype: float64"
      ]
     },
     "execution_count": 37,
     "metadata": {},
     "output_type": "execute_result"
    }
   ],
   "source": [
    "single_patient"
   ]
  },
  {
   "cell_type": "code",
   "execution_count": 38,
   "metadata": {},
   "outputs": [
    {
     "data": {
      "text/plain": [
       "(3999, 40)"
      ]
     },
     "execution_count": 38,
     "metadata": {},
     "output_type": "execute_result"
    }
   ],
   "source": [
    "combine_df.drop('class', axis=1).shape"
   ]
  },
  {
   "cell_type": "code",
   "execution_count": 39,
   "metadata": {},
   "outputs": [
    {
     "data": {
      "text/plain": [
       "array([[7.70000000e+01, 3.10000000e+01, 5.40000000e+01, 2.97333333e+00,\n",
       "        1.05000000e+01, 7.00000000e-01, 1.54000000e+02, 7.50000000e-01,\n",
       "        5.87958333e+01, 5.26666667e-01, 1.49230769e+01, 0.00000000e+00,\n",
       "        1.60000000e+02, 2.70000000e+01, 3.25000000e+01, 7.08108108e+01,\n",
       "        1.70200000e+02, 4.00000000e+00, 4.20000000e+00, 1.90000000e+00,\n",
       "        7.89340074e+01, 1.00000000e+00, 1.70000000e+00, 5.01470588e+01,\n",
       "        1.14382353e+02, 1.36500000e+02, 3.96666667e+01, 1.38871212e+02,\n",
       "        2.03000000e+02, 1.32539000e+05, 1.74285714e+01, 9.72500000e+01,\n",
       "        1.16891892e+02, 3.73571429e+01, 2.10000000e+00, 1.40000000e-01,\n",
       "        1.71052632e+02, 1.03000000e+01, 8.00609756e+01, 7.38727273e+00]])"
      ]
     },
     "execution_count": 39,
     "metadata": {},
     "output_type": "execute_result"
    }
   ],
   "source": [
    "single_patient.values.reshape(-1,40)"
   ]
  },
  {
   "cell_type": "code",
   "execution_count": 40,
   "metadata": {},
   "outputs": [
    {
     "data": {
      "text/plain": [
       "array([[ 4.45103858e-02,  3.06331369e-03,  5.20000000e-01,\n",
       "         4.46031746e-01,  4.89372220e-02,  1.29682997e-02,\n",
       "         4.66666667e-01,  3.38312830e-02,  5.51210937e-01,\n",
       "         1.77445886e-06,  9.94505494e-01,  0.00000000e+00,\n",
       "         2.65338645e-01,  2.05755396e-01,  3.57705287e-01,\n",
       "         5.02890478e-01,  3.75358166e-01,  2.24505527e-05,\n",
       "         1.25925926e-01,  1.77304965e-02,  2.99937651e-01,\n",
       "         0.00000000e+00,  1.43322476e-01,  4.72986302e-01,\n",
       "         4.88813474e-01,  4.71401634e-01,  2.82786885e-01,\n",
       "         2.59004816e-01,  2.13800905e-01, -9.86874568e-05,\n",
       "         2.28081743e-01,  9.55065359e-01,  6.54332862e-01,\n",
       "         8.67886179e-01,  3.68098160e-02,  5.40990429e-03,\n",
       "         5.54936701e-02,  7.43801653e-02,  2.58215769e-01,\n",
       "         3.90237387e-03]])"
      ]
     },
     "execution_count": 40,
     "metadata": {},
     "output_type": "execute_result"
    }
   ],
   "source": [
    "single_patient = scaler.transform(single_patient.values.reshape(-1,40))\n",
    "single_patient"
   ]
  },
  {
   "cell_type": "code",
   "execution_count": 41,
   "metadata": {},
   "outputs": [
    {
     "data": {
      "text/plain": [
       "array([[ True, False]])"
      ]
     },
     "execution_count": 41,
     "metadata": {},
     "output_type": "execute_result"
    }
   ],
   "source": [
    "pred = model.predict(single_patient) > 0.8\n",
    "pred"
   ]
  },
  {
   "cell_type": "markdown",
   "metadata": {},
   "source": [
    "Do not worry he/she will not be going to die :)"
   ]
  },
  {
   "cell_type": "markdown",
   "metadata": {
    "colab_type": "text",
    "id": "Pdw3cG7ycVmW"
   },
   "source": [
    "**Note: One should keep in mind that these values are just predicted values and the predictions can be wrong.**"
   ]
  },
  {
   "cell_type": "code",
   "execution_count": null,
   "metadata": {},
   "outputs": [],
   "source": []
  }
 ],
 "metadata": {
  "accelerator": "GPU",
  "colab": {
   "collapsed_sections": [],
   "name": "Mortality_Prediction_ICU.ipynb",
   "provenance": []
  },
  "kernelspec": {
   "display_name": "Python 3",
   "language": "python",
   "name": "python3"
  },
  "language_info": {
   "codemirror_mode": {
    "name": "ipython",
    "version": 3
   },
   "file_extension": ".py",
   "mimetype": "text/x-python",
   "name": "python",
   "nbconvert_exporter": "python",
   "pygments_lexer": "ipython3",
   "version": "3.7.9"
  }
 },
 "nbformat": 4,
 "nbformat_minor": 1
}
