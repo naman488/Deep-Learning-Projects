{
 "cells": [
  {
   "cell_type": "markdown",
   "id": "happy-monte",
   "metadata": {},
   "source": [
    "# Topic - Autistic Spectrum Disorder Screening for Children  "
   ]
  },
  {
   "cell_type": "markdown",
   "id": "parental-western",
   "metadata": {},
   "source": [
    "Autistic Spectrum Disorder (ASD) is a neurodevelopment condition associated with significant healthcare costs, and early diagnosis can significantly reduce these. Unfortunately, waiting times for an ASD diagnosis are lengthy and procedures are not cost effective. The economic impact of autism and the increase in the number of ASD cases across the world reveals an urgent need for the development of easily implemented and effective screening methods. Therefore, a time-efficient and accessible ASD screening is imminent to help health professionals and inform individuals whether they should pursue formal clinical diagnosis."
   ]
  },
  {
   "cell_type": "markdown",
   "id": "increasing-attack",
   "metadata": {},
   "source": [
    "## Dataset Description:\n",
    "Dataset name: Autistic Spectrum Disorder Screening Data for Children<br>\n",
    "Source: https://archive.ics.uci.edu/ml/datasets/Autistic+Spectrum+Disorder+Screening+Data+for+Children++<br>\n",
    "Note: The dataset contains screening data for 292 patients."
   ]
  },
  {
   "cell_type": "markdown",
   "id": "alpha-default",
   "metadata": {},
   "source": [
    "### Attribute Information:\n",
    "Age: Number<br> \n",
    "Gender: String<br> \n",
    "Ethnicity: String<br>\n",
    "Born with jaundice: Boolean (yes or no)<br>\n",
    "Family member with PDD: Boolean (yes or no)<br>\n",
    "Who is completing the test: String<br>\n",
    "Country of residence: String<br>\n",
    "Used the screening app before: Boolean (yes or no)<br>\n",
    "10 Questions: The answer code (0, 1) of the question based on the screening method used<br>\n",
    "Screening Score: Integer<br> "
   ]
  },
  {
   "cell_type": "markdown",
   "id": "greater-kitchen",
   "metadata": {},
   "source": [
    "## Importing libraries"
   ]
  },
  {
   "cell_type": "code",
   "execution_count": 1,
   "id": "desperate-timothy",
   "metadata": {},
   "outputs": [
    {
     "name": "stderr",
     "output_type": "stream",
     "text": [
      "Using TensorFlow backend.\n"
     ]
    },
    {
     "name": "stdout",
     "output_type": "stream",
     "text": [
      "Keras version =  2.3.1\n"
     ]
    }
   ],
   "source": [
    "import pandas as pd\n",
    "import matplotlib.pyplot as plt\n",
    "%matplotlib inline\n",
    "import seaborn as sns\n",
    "import sklearn\n",
    "import keras\n",
    "\n",
    "print('Keras version = ', keras.__version__)"
   ]
  },
  {
   "cell_type": "markdown",
   "id": "modern-theology",
   "metadata": {},
   "source": [
    "## Reading and Understanding Data"
   ]
  },
  {
   "cell_type": "code",
   "execution_count": 2,
   "id": "eleven-commonwealth",
   "metadata": {},
   "outputs": [
    {
     "data": {
      "text/html": [
       "<div>\n",
       "<style scoped>\n",
       "    .dataframe tbody tr th:only-of-type {\n",
       "        vertical-align: middle;\n",
       "    }\n",
       "\n",
       "    .dataframe tbody tr th {\n",
       "        vertical-align: top;\n",
       "    }\n",
       "\n",
       "    .dataframe thead th {\n",
       "        text-align: right;\n",
       "    }\n",
       "</style>\n",
       "<table border=\"1\" class=\"dataframe\">\n",
       "  <thead>\n",
       "    <tr style=\"text-align: right;\">\n",
       "      <th></th>\n",
       "      <th>id</th>\n",
       "      <th>A1_Score</th>\n",
       "      <th>A2_Score</th>\n",
       "      <th>A3_Score</th>\n",
       "      <th>A4_Score</th>\n",
       "      <th>A5_Score</th>\n",
       "      <th>A6_Score</th>\n",
       "      <th>A7_Score</th>\n",
       "      <th>A8_Score</th>\n",
       "      <th>A9_Score</th>\n",
       "      <th>...</th>\n",
       "      <th>gender</th>\n",
       "      <th>ethnicity</th>\n",
       "      <th>jundice</th>\n",
       "      <th>austim</th>\n",
       "      <th>contry_of_res</th>\n",
       "      <th>used_app_before</th>\n",
       "      <th>result</th>\n",
       "      <th>age_desc</th>\n",
       "      <th>relation</th>\n",
       "      <th>Class/ASD</th>\n",
       "    </tr>\n",
       "  </thead>\n",
       "  <tbody>\n",
       "    <tr>\n",
       "      <th>0</th>\n",
       "      <td>1</td>\n",
       "      <td>1</td>\n",
       "      <td>1</td>\n",
       "      <td>0</td>\n",
       "      <td>0</td>\n",
       "      <td>1</td>\n",
       "      <td>1</td>\n",
       "      <td>0</td>\n",
       "      <td>1</td>\n",
       "      <td>0</td>\n",
       "      <td>...</td>\n",
       "      <td>m</td>\n",
       "      <td>Others</td>\n",
       "      <td>no</td>\n",
       "      <td>no</td>\n",
       "      <td>Jordan</td>\n",
       "      <td>no</td>\n",
       "      <td>5</td>\n",
       "      <td>4-11 years</td>\n",
       "      <td>Parent</td>\n",
       "      <td>NO</td>\n",
       "    </tr>\n",
       "    <tr>\n",
       "      <th>1</th>\n",
       "      <td>2</td>\n",
       "      <td>1</td>\n",
       "      <td>1</td>\n",
       "      <td>0</td>\n",
       "      <td>0</td>\n",
       "      <td>1</td>\n",
       "      <td>1</td>\n",
       "      <td>0</td>\n",
       "      <td>1</td>\n",
       "      <td>0</td>\n",
       "      <td>...</td>\n",
       "      <td>m</td>\n",
       "      <td>Middle Eastern</td>\n",
       "      <td>no</td>\n",
       "      <td>no</td>\n",
       "      <td>Jordan</td>\n",
       "      <td>no</td>\n",
       "      <td>5</td>\n",
       "      <td>4-11 years</td>\n",
       "      <td>Parent</td>\n",
       "      <td>NO</td>\n",
       "    </tr>\n",
       "    <tr>\n",
       "      <th>2</th>\n",
       "      <td>3</td>\n",
       "      <td>1</td>\n",
       "      <td>1</td>\n",
       "      <td>0</td>\n",
       "      <td>0</td>\n",
       "      <td>0</td>\n",
       "      <td>1</td>\n",
       "      <td>1</td>\n",
       "      <td>1</td>\n",
       "      <td>0</td>\n",
       "      <td>...</td>\n",
       "      <td>m</td>\n",
       "      <td>?</td>\n",
       "      <td>no</td>\n",
       "      <td>no</td>\n",
       "      <td>Jordan</td>\n",
       "      <td>yes</td>\n",
       "      <td>5</td>\n",
       "      <td>4-11 years</td>\n",
       "      <td>?</td>\n",
       "      <td>NO</td>\n",
       "    </tr>\n",
       "    <tr>\n",
       "      <th>3</th>\n",
       "      <td>4</td>\n",
       "      <td>0</td>\n",
       "      <td>1</td>\n",
       "      <td>0</td>\n",
       "      <td>0</td>\n",
       "      <td>1</td>\n",
       "      <td>1</td>\n",
       "      <td>0</td>\n",
       "      <td>0</td>\n",
       "      <td>0</td>\n",
       "      <td>...</td>\n",
       "      <td>f</td>\n",
       "      <td>?</td>\n",
       "      <td>yes</td>\n",
       "      <td>no</td>\n",
       "      <td>Jordan</td>\n",
       "      <td>no</td>\n",
       "      <td>4</td>\n",
       "      <td>4-11 years</td>\n",
       "      <td>?</td>\n",
       "      <td>NO</td>\n",
       "    </tr>\n",
       "    <tr>\n",
       "      <th>4</th>\n",
       "      <td>5</td>\n",
       "      <td>1</td>\n",
       "      <td>1</td>\n",
       "      <td>1</td>\n",
       "      <td>1</td>\n",
       "      <td>1</td>\n",
       "      <td>1</td>\n",
       "      <td>1</td>\n",
       "      <td>1</td>\n",
       "      <td>1</td>\n",
       "      <td>...</td>\n",
       "      <td>m</td>\n",
       "      <td>Others</td>\n",
       "      <td>yes</td>\n",
       "      <td>no</td>\n",
       "      <td>United States</td>\n",
       "      <td>no</td>\n",
       "      <td>10</td>\n",
       "      <td>4-11 years</td>\n",
       "      <td>Parent</td>\n",
       "      <td>YES</td>\n",
       "    </tr>\n",
       "  </tbody>\n",
       "</table>\n",
       "<p>5 rows × 22 columns</p>\n",
       "</div>"
      ],
      "text/plain": [
       "   id  A1_Score  A2_Score  A3_Score  A4_Score  A5_Score  A6_Score  A7_Score  \\\n",
       "0   1         1         1         0         0         1         1         0   \n",
       "1   2         1         1         0         0         1         1         0   \n",
       "2   3         1         1         0         0         0         1         1   \n",
       "3   4         0         1         0         0         1         1         0   \n",
       "4   5         1         1         1         1         1         1         1   \n",
       "\n",
       "   A8_Score  A9_Score  ...  gender        ethnicity jundice austim  \\\n",
       "0         1         0  ...       m           Others      no     no   \n",
       "1         1         0  ...       m  Middle Eastern       no     no   \n",
       "2         1         0  ...       m                ?      no     no   \n",
       "3         0         0  ...       f                ?     yes     no   \n",
       "4         1         1  ...       m           Others     yes     no   \n",
       "\n",
       "   contry_of_res used_app_before result    age_desc  relation Class/ASD  \n",
       "0         Jordan              no      5  4-11 years    Parent        NO  \n",
       "1         Jordan              no      5  4-11 years    Parent        NO  \n",
       "2         Jordan             yes      5  4-11 years         ?        NO  \n",
       "3         Jordan              no      4  4-11 years         ?        NO  \n",
       "4  United States              no     10  4-11 years    Parent       YES  \n",
       "\n",
       "[5 rows x 22 columns]"
      ]
     },
     "execution_count": 2,
     "metadata": {},
     "output_type": "execute_result"
    }
   ],
   "source": [
    "data = pd.read_csv('autism_data.csv')\n",
    "data.head()"
   ]
  },
  {
   "cell_type": "code",
   "execution_count": 3,
   "id": "social-broadway",
   "metadata": {},
   "outputs": [
    {
     "name": "stdout",
     "output_type": "stream",
     "text": [
      "Number of rows =  292\n",
      "Number of columns =  22\n"
     ]
    }
   ],
   "source": [
    "print('Number of rows = ',data.shape[0])\n",
    "print('Number of columns = ',data.shape[1])"
   ]
  },
  {
   "cell_type": "code",
   "execution_count": 4,
   "id": "opened-portrait",
   "metadata": {},
   "outputs": [
    {
     "data": {
      "text/plain": [
       "Index(['id', 'A1_Score', 'A2_Score', 'A3_Score', 'A4_Score', 'A5_Score',\n",
       "       'A6_Score', 'A7_Score', 'A8_Score', 'A9_Score', 'A10_Score', 'age',\n",
       "       'gender', 'ethnicity', 'jundice', 'austim', 'contry_of_res',\n",
       "       'used_app_before', 'result', 'age_desc', 'relation', 'Class/ASD'],\n",
       "      dtype='object')"
      ]
     },
     "execution_count": 4,
     "metadata": {},
     "output_type": "execute_result"
    }
   ],
   "source": [
    "data.columns"
   ]
  },
  {
   "cell_type": "markdown",
   "id": "forward-crown",
   "metadata": {},
   "source": [
    "## Data preparation & Exploratory data analysis"
   ]
  },
  {
   "cell_type": "code",
   "execution_count": 5,
   "id": "opening-killing",
   "metadata": {},
   "outputs": [
    {
     "data": {
      "text/plain": [
       "Class/ASD          0\n",
       "relation           0\n",
       "A1_Score           0\n",
       "A2_Score           0\n",
       "A3_Score           0\n",
       "A4_Score           0\n",
       "A5_Score           0\n",
       "A6_Score           0\n",
       "A7_Score           0\n",
       "A8_Score           0\n",
       "A9_Score           0\n",
       "A10_Score          0\n",
       "age                0\n",
       "gender             0\n",
       "ethnicity          0\n",
       "jundice            0\n",
       "austim             0\n",
       "contry_of_res      0\n",
       "used_app_before    0\n",
       "result             0\n",
       "age_desc           0\n",
       "id                 0\n",
       "dtype: int64"
      ]
     },
     "execution_count": 5,
     "metadata": {},
     "output_type": "execute_result"
    }
   ],
   "source": [
    "data.isnull().sum().sort_values(ascending=False)"
   ]
  },
  {
   "cell_type": "code",
   "execution_count": 6,
   "id": "matched-onion",
   "metadata": {},
   "outputs": [],
   "source": [
    "# result is a total of a1_score + .. + a10_score, we already have that information so we will drop the result column \n",
    "data = data.drop(['id','result', 'age_desc'], axis=1)"
   ]
  },
  {
   "cell_type": "markdown",
   "id": "naked-behalf",
   "metadata": {},
   "source": [
    "### Whether the case was born with jaundice?"
   ]
  },
  {
   "cell_type": "code",
   "execution_count": 7,
   "id": "dried-senator",
   "metadata": {},
   "outputs": [
    {
     "data": {
      "image/png": "[encoded data removed]",
      "text/plain": [
       "<Figure size 360x288 with 1 Axes>"
      ]
     },
     "metadata": {
      "needs_background": "light"
     },
     "output_type": "display_data"
    }
   ],
   "source": [
    "plt.figure(figsize=(5,4))\n",
    "sns.countplot(x='jundice',data = data)\n",
    "plt.xlabel('Jundice',fontsize=13)\n",
    "plt.ylabel('Count',fontsize=13)\n",
    "plt.tick_params(labelsize=13);"
   ]
  },
  {
   "cell_type": "markdown",
   "id": "grateful-navigation",
   "metadata": {},
   "source": [
    "### Common Ethnicities"
   ]
  },
  {
   "cell_type": "code",
   "execution_count": 8,
   "id": "specialized-windsor",
   "metadata": {},
   "outputs": [
    {
     "data": {
      "text/plain": [
       "array(['Others', 'Middle Eastern ', '?', 'White-European', 'Black',\n",
       "       'South Asian', 'Asian', 'Pasifika', 'Hispanic', 'Turkish',\n",
       "       'Latino'], dtype=object)"
      ]
     },
     "execution_count": 8,
     "metadata": {},
     "output_type": "execute_result"
    }
   ],
   "source": [
    "data['ethnicity'].unique()"
   ]
  },
  {
   "cell_type": "code",
   "execution_count": 9,
   "id": "pending-shopper",
   "metadata": {},
   "outputs": [],
   "source": [
    "data['ethnicity'].replace(['?'], ['Others'], inplace  = True)"
   ]
  },
  {
   "cell_type": "code",
   "execution_count": 10,
   "id": "ultimate-cholesterol",
   "metadata": {},
   "outputs": [
    {
     "data": {
      "image/png": "[encoded data removed]",
      "text/plain": [
       "<Figure size 720x360 with 1 Axes>"
      ]
     },
     "metadata": {
      "needs_background": "light"
     },
     "output_type": "display_data"
    }
   ],
   "source": [
    "plt.figure(figsize=(10,5))\n",
    "sns.countplot(x='ethnicity',data = data,palette='Set1')\n",
    "plt.xlabel('Ethnicity',fontsize=14)\n",
    "plt.ylabel('Count',fontsize=14)\n",
    "plt.title('Ethnicities',fontsize=14)\n",
    "plt.xticks(rotation=90)\n",
    "plt.tick_params(labelsize=14)"
   ]
  },
  {
   "cell_type": "markdown",
   "id": "unlike-empty",
   "metadata": {},
   "source": [
    "### Whether any immediate family member has a PDD?"
   ]
  },
  {
   "cell_type": "code",
   "execution_count": 11,
   "id": "controlled-active",
   "metadata": {},
   "outputs": [
    {
     "data": {
      "image/png": "[encoded data removed]",
      "text/plain": [
       "<Figure size 360x288 with 1 Axes>"
      ]
     },
     "metadata": {
      "needs_background": "light"
     },
     "output_type": "display_data"
    }
   ],
   "source": [
    "plt.figure(figsize=(5,4))\n",
    "sns.countplot(x='austim',data = data)\n",
    "plt.xlabel('Pervasive developmental disorders',fontsize=13)\n",
    "plt.ylabel('Count',fontsize=13)\n",
    "plt.tick_params(labelsize=13);"
   ]
  },
  {
   "cell_type": "markdown",
   "id": "signed-oakland",
   "metadata": {},
   "source": [
    "### Country of residence"
   ]
  },
  {
   "cell_type": "code",
   "execution_count": 12,
   "id": "simplified-realtor",
   "metadata": {},
   "outputs": [
    {
     "data": {
      "image/png": "[encoded data removed]",
      "text/plain": [
       "<Figure size 1440x360 with 1 Axes>"
      ]
     },
     "metadata": {
      "needs_background": "light"
     },
     "output_type": "display_data"
    }
   ],
   "source": [
    "plt.figure(figsize=(20,5))\n",
    "sns.countplot(x='contry_of_res',data = data,palette='gist_rainbow_r')\n",
    "plt.xlabel('Country',fontsize=14)\n",
    "plt.ylabel('Count',fontsize=14)\n",
    "plt.title('Countries',fontsize=14)\n",
    "plt.xticks(rotation=90)\n",
    "plt.tick_params(labelsize=14)"
   ]
  },
  {
   "cell_type": "markdown",
   "id": "moderate-procurement",
   "metadata": {},
   "source": [
    "### Whether the user has used the screening app before?"
   ]
  },
  {
   "cell_type": "code",
   "execution_count": 13,
   "id": "intellectual-battlefield",
   "metadata": {},
   "outputs": [
    {
     "data": {
      "image/png": "[encoded data removed]",
      "text/plain": [
       "<Figure size 360x288 with 1 Axes>"
      ]
     },
     "metadata": {
      "needs_background": "light"
     },
     "output_type": "display_data"
    }
   ],
   "source": [
    "plt.figure(figsize=(5,4))\n",
    "sns.countplot(x='used_app_before',data = data)\n",
    "plt.xlabel('used app before',fontsize=13)\n",
    "plt.ylabel('Count',fontsize=13)\n",
    "plt.tick_params(labelsize=13);"
   ]
  },
  {
   "cell_type": "code",
   "execution_count": 14,
   "id": "disturbed-phoenix",
   "metadata": {},
   "outputs": [
    {
     "data": {
      "text/plain": [
       "array(['Parent', '?', 'Self', 'Relative', 'Health care professional',\n",
       "       'self'], dtype=object)"
      ]
     },
     "execution_count": 14,
     "metadata": {},
     "output_type": "execute_result"
    }
   ],
   "source": [
    "data['relation'].unique()"
   ]
  },
  {
   "cell_type": "code",
   "execution_count": 15,
   "id": "patent-aspect",
   "metadata": {},
   "outputs": [],
   "source": [
    "data['relation'].replace(['?', 'self'], ['Others', 'Self'], inplace  = True)"
   ]
  },
  {
   "cell_type": "markdown",
   "id": "textile-gospel",
   "metadata": {},
   "source": [
    "## Model Building"
   ]
  },
  {
   "cell_type": "code",
   "execution_count": 16,
   "id": "buried-compatibility",
   "metadata": {},
   "outputs": [],
   "source": [
    "x = data.drop(['Class/ASD'], axis = 1)\n",
    "X = pd.get_dummies(x)"
   ]
  },
  {
   "cell_type": "code",
   "execution_count": 17,
   "id": "dense-consumption",
   "metadata": {},
   "outputs": [],
   "source": [
    "y = data['Class/ASD']\n",
    "Y = pd.get_dummies(y)"
   ]
  },
  {
   "cell_type": "code",
   "execution_count": 18,
   "id": "valid-council",
   "metadata": {},
   "outputs": [],
   "source": [
    "from sklearn import model_selection\n",
    "X_train, X_test, Y_train, Y_test = model_selection.train_test_split(X, Y, test_size = 0.2)"
   ]
  },
  {
   "cell_type": "code",
   "execution_count": 19,
   "id": "binary-priest",
   "metadata": {},
   "outputs": [
    {
     "name": "stdout",
     "output_type": "stream",
     "text": [
      "(233, 94)\n",
      "(59, 94)\n",
      "(233, 2)\n",
      "(59, 2)\n"
     ]
    }
   ],
   "source": [
    "print(X_train.shape)\n",
    "print(X_test.shape)\n",
    "print(Y_train.shape)\n",
    "print(Y_test.shape)"
   ]
  },
  {
   "cell_type": "code",
   "execution_count": 20,
   "id": "distinguished-tracy",
   "metadata": {},
   "outputs": [],
   "source": [
    "from keras.models import Sequential\n",
    "from keras.layers import Dense\n",
    "from keras.optimizers import Adam\n",
    "from keras.callbacks import EarlyStopping"
   ]
  },
  {
   "cell_type": "code",
   "execution_count": 21,
   "id": "cardiovascular-excess",
   "metadata": {},
   "outputs": [
    {
     "name": "stdout",
     "output_type": "stream",
     "text": [
      "Model: \"sequential_1\"\n",
      "_________________________________________________________________\n",
      "Layer (type)                 Output Shape              Param #   \n",
      "=================================================================\n",
      "dense_1 (Dense)              (None, 8)                 760       \n",
      "_________________________________________________________________\n",
      "dense_2 (Dense)              (None, 4)                 36        \n",
      "_________________________________________________________________\n",
      "dense_3 (Dense)              (None, 2)                 10        \n",
      "=================================================================\n",
      "Total params: 806\n",
      "Trainable params: 806\n",
      "Non-trainable params: 0\n",
      "_________________________________________________________________\n"
     ]
    }
   ],
   "source": [
    "model = Sequential()\n",
    "\n",
    "model.add(Dense(8, input_dim=94, kernel_initializer='normal', activation='relu'))\n",
    "model.add(Dense(4, kernel_initializer='normal', activation='relu'))\n",
    "model.add(Dense(2, activation='sigmoid'))\n",
    "\n",
    "adam = Adam(lr=0.001)\n",
    "model.compile(loss='categorical_crossentropy', optimizer=adam, metrics=['accuracy'])\n",
    "\n",
    "model.summary()"
   ]
  },
  {
   "cell_type": "code",
   "execution_count": 22,
   "id": "olive-aurora",
   "metadata": {},
   "outputs": [
    {
     "data": {
      "image/png": "[encoded data removed]",
      "text/plain": [
       "<IPython.core.display.Image object>"
      ]
     },
     "execution_count": 22,
     "metadata": {},
     "output_type": "execute_result"
    }
   ],
   "source": [
    "# visualizing the model\n",
    "from keras.utils import plot_model\n",
    "plot_model(model, show_shapes=True)"
   ]
  },
  {
   "cell_type": "markdown",
   "id": "lined-participant",
   "metadata": {},
   "source": [
    "### Model Training"
   ]
  },
  {
   "cell_type": "code",
   "execution_count": 23,
   "id": "absent-silicon",
   "metadata": {},
   "outputs": [
    {
     "name": "stdout",
     "output_type": "stream",
     "text": [
      "Train on 233 samples, validate on 59 samples\n",
      "Epoch 1/30\n",
      "233/233 [==============================] - 0s 529us/step - loss: 0.6934 - accuracy: 0.4807 - val_loss: 0.6933 - val_accuracy: 0.4407\n",
      "Epoch 2/30\n",
      "233/233 [==============================] - 0s 59us/step - loss: 0.6922 - accuracy: 0.6094 - val_loss: 0.6928 - val_accuracy: 0.5254\n",
      "Epoch 3/30\n",
      "233/233 [==============================] - 0s 60us/step - loss: 0.6915 - accuracy: 0.6695 - val_loss: 0.6924 - val_accuracy: 0.5932\n",
      "Epoch 4/30\n",
      "233/233 [==============================] - 0s 43us/step - loss: 0.6904 - accuracy: 0.7296 - val_loss: 0.6919 - val_accuracy: 0.6102\n",
      "Epoch 5/30\n",
      "233/233 [==============================] - 0s 54us/step - loss: 0.6887 - accuracy: 0.7425 - val_loss: 0.6910 - val_accuracy: 0.5593\n",
      "Epoch 6/30\n",
      "233/233 [==============================] - 0s 47us/step - loss: 0.6863 - accuracy: 0.7425 - val_loss: 0.6882 - val_accuracy: 0.6780\n",
      "Epoch 7/30\n",
      "233/233 [==============================] - 0s 54us/step - loss: 0.6829 - accuracy: 0.7854 - val_loss: 0.6861 - val_accuracy: 0.6780\n",
      "Epoch 8/30\n",
      "233/233 [==============================] - 0s 52us/step - loss: 0.6778 - accuracy: 0.7597 - val_loss: 0.6824 - val_accuracy: 0.6610\n",
      "Epoch 9/30\n",
      "233/233 [==============================] - 0s 48us/step - loss: 0.6714 - accuracy: 0.7682 - val_loss: 0.6764 - val_accuracy: 0.7458\n",
      "Epoch 10/30\n",
      "233/233 [==============================] - 0s 52us/step - loss: 0.6629 - accuracy: 0.8026 - val_loss: 0.6677 - val_accuracy: 0.7627\n",
      "Epoch 11/30\n",
      "233/233 [==============================] - 0s 52us/step - loss: 0.6520 - accuracy: 0.8155 - val_loss: 0.6561 - val_accuracy: 0.8136\n",
      "Epoch 12/30\n",
      "233/233 [==============================] - 0s 47us/step - loss: 0.6389 - accuracy: 0.8584 - val_loss: 0.6406 - val_accuracy: 0.8644\n",
      "Epoch 13/30\n",
      "233/233 [==============================] - 0s 51us/step - loss: 0.6233 - accuracy: 0.8670 - val_loss: 0.6240 - val_accuracy: 0.8814\n",
      "Epoch 14/30\n",
      "233/233 [==============================] - 0s 47us/step - loss: 0.6053 - accuracy: 0.8841 - val_loss: 0.6026 - val_accuracy: 0.8814\n",
      "Epoch 15/30\n",
      "233/233 [==============================] - 0s 45us/step - loss: 0.5868 - accuracy: 0.8798 - val_loss: 0.5822 - val_accuracy: 0.8814\n",
      "Epoch 16/30\n",
      "233/233 [==============================] - 0s 43us/step - loss: 0.5668 - accuracy: 0.9142 - val_loss: 0.5639 - val_accuracy: 0.8814\n",
      "Epoch 17/30\n",
      "233/233 [==============================] - 0s 47us/step - loss: 0.5450 - accuracy: 0.9142 - val_loss: 0.5371 - val_accuracy: 0.8983\n",
      "Epoch 18/30\n",
      "233/233 [==============================] - 0s 47us/step - loss: 0.5253 - accuracy: 0.8927 - val_loss: 0.5132 - val_accuracy: 0.9322\n",
      "Epoch 19/30\n",
      "233/233 [==============================] - 0s 47us/step - loss: 0.5025 - accuracy: 0.9056 - val_loss: 0.4966 - val_accuracy: 0.8814\n",
      "Epoch 20/30\n",
      "233/233 [==============================] - 0s 51us/step - loss: 0.4794 - accuracy: 0.9142 - val_loss: 0.4679 - val_accuracy: 0.9492\n",
      "Epoch 21/30\n",
      "233/233 [==============================] - 0s 47us/step - loss: 0.4589 - accuracy: 0.9142 - val_loss: 0.4473 - val_accuracy: 0.9322\n",
      "Epoch 22/30\n",
      "233/233 [==============================] - 0s 47us/step - loss: 0.4375 - accuracy: 0.9227 - val_loss: 0.4265 - val_accuracy: 0.9492\n",
      "Epoch 23/30\n",
      "233/233 [==============================] - 0s 52us/step - loss: 0.4165 - accuracy: 0.9270 - val_loss: 0.4090 - val_accuracy: 0.9322\n",
      "Epoch 24/30\n",
      "233/233 [==============================] - 0s 47us/step - loss: 0.3962 - accuracy: 0.9399 - val_loss: 0.3876 - val_accuracy: 0.9492\n",
      "Epoch 25/30\n",
      "233/233 [==============================] - 0s 52us/step - loss: 0.3761 - accuracy: 0.9356 - val_loss: 0.3669 - val_accuracy: 0.9492\n",
      "Epoch 26/30\n",
      "233/233 [==============================] - 0s 47us/step - loss: 0.3568 - accuracy: 0.9356 - val_loss: 0.3540 - val_accuracy: 0.9492\n",
      "Epoch 27/30\n",
      "233/233 [==============================] - 0s 56us/step - loss: 0.3379 - accuracy: 0.9442 - val_loss: 0.3348 - val_accuracy: 0.9492\n",
      "Epoch 28/30\n",
      "233/233 [==============================] - 0s 43us/step - loss: 0.3227 - accuracy: 0.9485 - val_loss: 0.3126 - val_accuracy: 0.9492\n",
      "Epoch 29/30\n",
      "233/233 [==============================] - 0s 47us/step - loss: 0.3038 - accuracy: 0.9571 - val_loss: 0.3070 - val_accuracy: 0.9492\n",
      "Epoch 30/30\n",
      "233/233 [==============================] - 0s 56us/step - loss: 0.2881 - accuracy: 0.9485 - val_loss: 0.2940 - val_accuracy: 0.9322\n"
     ]
    },
    {
     "data": {
      "text/plain": [
       "<keras.callbacks.callbacks.History at 0x272584aa448>"
      ]
     },
     "execution_count": 23,
     "metadata": {},
     "output_type": "execute_result"
    }
   ],
   "source": [
    "early_stop = EarlyStopping(monitor='val_loss', mode='min', verbose=1, patience=25)\n",
    "\n",
    "model.fit(x=X_train, y=Y_train, epochs=30, validation_data=(X_test,Y_test),callbacks=[early_stop])"
   ]
  },
  {
   "cell_type": "code",
   "execution_count": 24,
   "id": "coated-porcelain",
   "metadata": {},
   "outputs": [
    {
     "name": "stdout",
     "output_type": "stream",
     "text": [
      "Toatal number of epochs run =  30\n"
     ]
    }
   ],
   "source": [
    "result = pd.DataFrame(model.history.history)\n",
    "print('Toatal number of epochs run = ', result.shape[0])"
   ]
  },
  {
   "cell_type": "markdown",
   "id": "impossible-evolution",
   "metadata": {},
   "source": [
    "## Evaluating the Model"
   ]
  },
  {
   "cell_type": "code",
   "execution_count": 25,
   "id": "million-candidate",
   "metadata": {},
   "outputs": [
    {
     "data": {
      "image/png": "[encoded data removed]",
      "text/plain": [
       "<Figure size 1008x432 with 2 Axes>"
      ]
     },
     "metadata": {
      "needs_background": "light"
     },
     "output_type": "display_data"
    }
   ],
   "source": [
    "fig, (ax1, ax2) = plt.subplots(nrows= 1, ncols = 2, figsize= (14,6))\n",
    "\n",
    "ax1.plot(model.history.history['loss'], label='loss')\n",
    "ax1.plot(model.history.history['val_loss'], label='val_loss')\n",
    "ax1.legend()\n",
    "\n",
    "ax2.plot(model.history.history['accuracy'], label='accuracy')\n",
    "ax2.plot(model.history.history['val_accuracy'], label='val_accuracy')\n",
    "ax2.legend();"
   ]
  },
  {
   "cell_type": "code",
   "execution_count": 26,
   "id": "vocational-underwear",
   "metadata": {},
   "outputs": [
    {
     "name": "stdout",
     "output_type": "stream",
     "text": [
      "59/59 [==============================] - 0s 33us/step\n",
      "\n",
      "Accuracy on test data =  93.2 %\n"
     ]
    }
   ],
   "source": [
    "test_acc = model.evaluate(X_test, Y_test)\n",
    "print(\"\\nAccuracy on test data = \", round(test_acc[1],3)*100,'%')"
   ]
  },
  {
   "cell_type": "code",
   "execution_count": 27,
   "id": "supreme-lawrence",
   "metadata": {},
   "outputs": [
    {
     "data": {
      "text/plain": [
       "array([0, 1, 0, 0, 1, 0, 1, 0, 0, 1, 0, 1, 1, 0, 0, 1, 0, 1, 0, 0, 1, 1,\n",
       "       0, 0, 0, 1, 1, 0, 1, 0, 0, 1, 1, 0, 0, 1, 0, 0, 1, 0, 0, 0, 0, 0,\n",
       "       1, 0, 1, 1, 0, 1, 0, 0, 0, 1, 1, 1, 1, 1, 0], dtype=int64)"
      ]
     },
     "execution_count": 27,
     "metadata": {},
     "output_type": "execute_result"
    }
   ],
   "source": [
    "predictions = model.predict_classes(X_test)\n",
    "predictions"
   ]
  },
  {
   "cell_type": "code",
   "execution_count": 28,
   "id": "excited-prevention",
   "metadata": {},
   "outputs": [
    {
     "name": "stdout",
     "output_type": "stream",
     "text": [
      "              precision    recall  f1-score   support\n",
      "\n",
      "           0       1.00      0.89      0.94        37\n",
      "           1       0.85      1.00      0.92        22\n",
      "\n",
      "    accuracy                           0.93        59\n",
      "   macro avg       0.92      0.95      0.93        59\n",
      "weighted avg       0.94      0.93      0.93        59\n",
      "\n"
     ]
    }
   ],
   "source": [
    "from sklearn.metrics import classification_report\n",
    "print(classification_report(Y_test[['YES']], predictions))"
   ]
  },
  {
   "cell_type": "code",
   "execution_count": null,
   "id": "focused-shadow",
   "metadata": {},
   "outputs": [],
   "source": []
  }
 ],
 "metadata": {
  "kernelspec": {
   "display_name": "Python 3",
   "language": "python",
   "name": "python3"
  },
  "language_info": {
   "codemirror_mode": {
    "name": "ipython",
    "version": 3
   },
   "file_extension": ".py",
   "mimetype": "text/x-python",
   "name": "python",
   "nbconvert_exporter": "python",
   "pygments_lexer": "ipython3",
   "version": "3.7.9"
  }
 },
 "nbformat": 4,
 "nbformat_minor": 5
}
